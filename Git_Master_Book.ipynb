{
 "cells": [
  {
   "cell_type": "markdown",
   "id": "7d5b5a11-3faf-46c0-81bb-809d19ddd2a2",
   "metadata": {},
   "source": [
    "## List of files to commit"
   ]
  },
  {
   "cell_type": "code",
   "execution_count": 18,
   "id": "38bf9370-fc16-4e94-a61d-2d7851f88034",
   "metadata": {
    "tags": []
   },
   "outputs": [
    {
     "name": "stdout",
     "output_type": "stream",
     "text": [
      "total 34\n",
      "-rw-r--r-- 1 jovyan jovyan 2533 Oct  4 08:45 Git_Master_Book.ipynb\n",
      "-rw-r--r-- 1 jovyan jovyan   18 Oct  3 20:50 README.md\n",
      "drwxr-xr-x 6 jovyan jovyan 4096 Oct  4 08:30 \u001b[0m\u001b[01;34mdata\u001b[0m/\n",
      "-rw-r--r-- 1 jovyan jovyan 3950 Oct  4 08:28 data_exploration.ipynb\n"
     ]
    }
   ],
   "source": [
    "%ls -l"
   ]
  },
  {
   "cell_type": "code",
   "execution_count": 27,
   "id": "488a8df2-8e56-47f9-80ac-aa2a13324dc5",
   "metadata": {
    "tags": []
   },
   "outputs": [
    {
     "name": "stdout",
     "output_type": "stream",
     "text": [
      "usage: git add [<options>] [--] <pathspec>...\n",
      "\n",
      "    -n, --dry-run         dry run\n",
      "    -v, --verbose         be verbose\n",
      "\n",
      "    -i, --interactive     interactive picking\n",
      "    -p, --patch           select hunks interactively\n",
      "    -e, --edit            edit current diff and apply\n",
      "    -f, --force           allow adding otherwise ignored files\n",
      "    -u, --update          update tracked files\n",
      "    --renormalize         renormalize EOL of tracked files (implies -u)\n",
      "    -N, --intent-to-add   record only the fact that the path will be added later\n",
      "    -A, --all             add changes from all tracked and untracked files\n",
      "    --ignore-removal      ignore paths removed in the working tree (same as --no-all)\n",
      "    --refresh             don't add, only refresh the index\n",
      "    --ignore-errors       just skip files which cannot be added because of errors\n",
      "    --ignore-missing      check if - even missing - files are ignored in dry run\n",
      "    --sparse              allow updating entries outside of the sparse-checkout cone\n",
      "    --chmod (+|-)x        override the executable bit of the listed files\n",
      "    --pathspec-from-file <file>\n",
      "                          read pathspec from file\n",
      "    --pathspec-file-nul   with --pathspec-from-file, pathspec elements are separated with NUL character\n",
      "\n"
     ]
    }
   ],
   "source": [
    "! git add -h"
   ]
  },
  {
   "cell_type": "code",
   "execution_count": 31,
   "id": "4301646f-4cc6-4d6f-872d-17d8cf6b2d19",
   "metadata": {
    "tags": []
   },
   "outputs": [],
   "source": [
    "! git add data_exploration.ipynb\n",
    "! git add Git_Master_Book.ipynb\n",
    "! git add README.md -f\n",
    "! git add data/MANIFEST -f\n",
    "! git add data/metadata_merged.csv"
   ]
  },
  {
   "cell_type": "code",
   "execution_count": null,
   "id": "aa5652d5-b429-4a6a-8654-1be209c7fbfa",
   "metadata": {},
   "outputs": [],
   "source": []
  }
 ],
 "metadata": {
  "kernelspec": {
   "display_name": "QIIME 2",
   "language": "python",
   "name": "python3"
  },
  "language_info": {
   "codemirror_mode": {
    "name": "ipython",
    "version": 3
   },
   "file_extension": ".py",
   "mimetype": "text/x-python",
   "name": "python",
   "nbconvert_exporter": "python",
   "pygments_lexer": "ipython3",
   "version": "3.10.14"
  }
 },
 "nbformat": 4,
 "nbformat_minor": 5
}
