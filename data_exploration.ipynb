{
 "cells": [
  {
   "cell_type": "code",
   "execution_count": 1,
   "id": "b63ddd0e-7ef2-4c46-acab-3dbe8f193dc0",
   "metadata": {
    "tags": []
   },
   "outputs": [],
   "source": [
    "import pandas as pd\n",
    "import qiime2 as q2\n",
    "import seaborn as sns\n",
    "\n",
    "import matplotlib.pyplot as plt\n",
    "%matplotlib inline\n",
    "data_dir = 'data'\n",
    "source = 'data/raw'\n",
    "! mkdir -p data data/raw\n"
   ]
  },
  {
   "cell_type": "code",
   "execution_count": 1,
   "id": "7f069957-1323-4b21-85ee-e7732f5bfca7",
   "metadata": {
    "tags": []
   },
   "outputs": [],
   "source": [
    "! rm -rf data\n"
   ]
  },
  {
   "cell_type": "markdown",
   "id": "a81fdc42-4a04-429d-951d-46dff2233d99",
   "metadata": {
    "tags": []
   },
   "source": [
    "## Extract compressed files from .tar.gz archives"
   ]
  },
  {
   "cell_type": "code",
   "execution_count": 3,
   "id": "a97ec667-8384-4a7f-977d-5175bb65b329",
   "metadata": {
    "tags": []
   },
   "outputs": [],
   "source": [
    "import tarfile\n",
    "import os\n",
    "\n",
    "####Run only once\n",
    "\n",
    "#for filename in os.listdir(source):\n",
    "#    if filename.endswith(\".tar.gz\"):\n",
    "#        filepath = os.path.join(source, filename)\n",
    "#        foldername = filename[:-7]  # remove .tar.gz\n",
    "#        outdir = os.path.join(source, foldername)\n",
    "#        os.makedirs(outdir, exist_ok=True)\n",
    "#        with tarfile.open(filepath, \"r:gz\") as tar:\n",
    "#            tar.extractall(path=outdir)\n"
   ]
  },
  {
   "cell_type": "code",
   "execution_count": 3,
   "id": "e7b6f6b3-6383-4e41-936f-f89079c273ec",
   "metadata": {},
   "outputs": [],
   "source": [
    "#######MANIFEST##########\n",
    "\n",
    "#import df\n",
    "metadata_df = pd.read_csv(f'{source}/merged_metadata_filtered.tsv', sep='\\t', index_col=0)\n",
    "\n",
    "# create additional metadata column containing the absolute path to the sequencing file\n",
    "metadata_df['absolute-filepath'] = f'$PWD/{source}/seqs/' + metadata_df['sample_ID'] + '.fastq'\n",
    "\n",
    "# export sample-id (DataFrame's index) and absolute-filepath to a manifest file\n",
    "metadata_df[['absolute-filepath']].to_csv(f'{data_dir}/MANIFEST', sep='\\t')"
   ]
  },
  {
   "cell_type": "code",
   "execution_count": 7,
   "id": "1a5ecbbb-f841-4f6f-a5fb-de0f872c1e1a",
   "metadata": {
    "tags": []
   },
   "outputs": [],
   "source": [
    "import os\n",
    "import pandas as pd\n",
    "\n",
    "data_dir = \"data\"\n",
    "source = \"data/raw\"\n",
    "\n",
    "# load metadata\n",
    "metadata_df = pd.read_csv(f\"{source}/merged_metadata_filtered.tsv\", sep=\"\\t\", index_col=0)\n",
    "\n",
    "records = []\n",
    "\n",
    "for technique in os.listdir(source):\n",
    "    tech_path = os.path.join(source, technique)\n",
    "    if not os.path.isdir(tech_path):\n",
    "        continue\n",
    "    for sample_id in os.listdir(tech_path):\n",
    "        sample_path = os.path.join(tech_path, sample_id)\n",
    "        if not os.path.isdir(sample_path):\n",
    "            continue\n",
    "        for f in os.listdir(sample_path):\n",
    "            if f.endswith((\".fa\", \".fasta\")):\n",
    "                abs_path = os.path.abspath(os.path.join(sample_path, f))\n",
    "                if sample_id in metadata_df.index:\n",
    "                    records.append((sample_id, abs_path))\n",
    "\n",
    "# build dataframe\n",
    "manifest_df = pd.DataFrame.from_records(records, columns=[\"sample-id\", \"absolute-filepath\"])\n",
    "manifest_df.set_index(\"sample-id\", inplace=True)\n",
    "\n",
    "# export MANIFEST\n",
    "manifest_df.to_csv(f\"{data_dir}/MANIFEST\", sep=\"\\t\")\n"
   ]
  },
  {
   "cell_type": "code",
   "execution_count": 18,
   "id": "d827960d-e226-4025-b21f-7f1d68d07fed",
   "metadata": {
    "tags": []
   },
   "outputs": [
    {
     "data": {
      "text/plain": [
       "Index(['samp_country', 'category', 'fermented_food_type', 'sample_id',\n",
       "       'absolute-filepath'],\n",
       "      dtype='object')"
      ]
     },
     "execution_count": 18,
     "metadata": {},
     "output_type": "execute_result"
    }
   ],
   "source": [
    "######create Merged_df for exploration######\n",
    "metadata_df['sample_id'] = metadata_df.index\n",
    "merged_df=pd.merge(metadata_df, manifest_df, how = 'right', left_on = 'sample_ID', right_on = 'sample-id')\n",
    "merged_df.columns"
   ]
  }
 ],
 "metadata": {
  "kernelspec": {
   "display_name": "QIIME 2",
   "language": "python",
   "name": "python3"
  },
  "language_info": {
   "codemirror_mode": {
    "name": "ipython",
    "version": 3
   },
   "file_extension": ".py",
   "mimetype": "text/x-python",
   "name": "python",
   "nbconvert_exporter": "python",
   "pygments_lexer": "ipython3",
   "version": "3.10.14"
  }
 },
 "nbformat": 4,
 "nbformat_minor": 5
}
