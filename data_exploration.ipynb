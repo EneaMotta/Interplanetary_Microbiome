{
 "cells": [
  {
   "cell_type": "markdown",
   "id": "0ea19c36-16f1-4af2-ada4-6e375d17f4c3",
   "metadata": {},
   "source": [
    "## Set up environment and fetch Files"
   ]
  },
  {
   "cell_type": "code",
   "execution_count": 4,
   "id": "b63ddd0e-7ef2-4c46-acab-3dbe8f193dc0",
   "metadata": {
    "tags": []
   },
   "outputs": [],
   "source": [
    "#set up environment\n",
    "import pandas as pd\n",
    "import qiime2 as q2\n",
    "import seaborn as sns\n",
    "import matplotlib.pyplot as plt\n",
    "import os\n",
    "\n",
    "%matplotlib inline\n",
    "!rm -r data ###unappend this line if you want to wipe clean the data folder\n",
    "data_dir = 'data'\n",
    "safe = 'permanent_dir'\n",
    "! mkdir -p data\n",
    "! mkdir -p permanent"
   ]
  },
  {
   "cell_type": "code",
   "execution_count": 5,
   "id": "38613f56-c0c2-46df-8665-1104244bfb63",
   "metadata": {
    "tags": []
   },
   "outputs": [
    {
     "name": "stdout",
     "output_type": "stream",
     "text": [
      "WARNING: combining -O with -r or -p will mean that all downloaded content\n",
      "will be placed in the single file you specified.\n",
      "\n",
      "--2025-10-18 09:52:09--  https://polybox.ethz.ch/index.php/s/56JaAiKdGwioBKN/download\n",
      "Resolving polybox.ethz.ch (polybox.ethz.ch)... 129.132.71.243\n",
      "Connecting to polybox.ethz.ch (polybox.ethz.ch)|129.132.71.243|:443... connected.\n",
      "HTTP request sent, awaiting response... 200 OK\n",
      "Length: unspecified [application/zip]\n",
      "Saving to: ‘polybox_files.tar.gz’\n",
      "\n",
      "polybox_files.tar.g     [      <=>           ] 492.28M   418MB/s    in 1.2s    \n",
      "\n",
      "2025-10-18 09:52:11 (418 MB/s) - ‘polybox_files.tar.gz’ saved [516188455]\n",
      "\n",
      "FINISHED --2025-10-18 09:52:11--\n",
      "Total wall clock time: 2.1s\n",
      "Downloaded: 1 files, 492M in 1.2s (418 MB/s)\n",
      "gzip: stdin has more than one entry--rest ignored\n",
      "tar: Child returned status 2\n",
      "tar: Error is not recoverable: exiting now\n",
      "Archive:  polybox_files.zip\n",
      "   creating: applied_bioinformatics/\n",
      " extracting: applied_bioinformatics/.DS_Store  \n",
      " extracting: applied_bioinformatics/Illumina_MAGs.tar.gz  \n",
      " extracting: applied_bioinformatics/PacBio_MAGs.tar.gz  \n",
      " extracting: applied_bioinformatics/merged_metadata_filtered.tsv  \n"
     ]
    }
   ],
   "source": [
    "# fetch files from polybox\n",
    "! wget -r -np -nH --cut-dirs=3 -R \"index.html*\" \"https://polybox.ethz.ch/index.php/s/56JaAiKdGwioBKN/download\" -O polybox_files.tar.gz\n",
    "! tar -xzf polybox_files.tar.gz\n",
    "\n",
    "#unzip polybox files\n",
    "!mv polybox_files.tar.gz polybox_files.zip\n",
    "!unzip polybox_files.zip\n",
    "!rm polybox_files.zip\n",
    "\n",
    "#untar MAGs files and store everything in data_dir\n",
    "!tar -xzf applied_bioinformatics/Illumina_MAGs.tar.gz -C ./data\n",
    "!tar -xzf applied_bioinformatics/PacBio_MAGs.tar.gz -C ./data\n",
    "!mv applied_bioinformatics/merged_metadata_filtered.tsv ./data\n",
    "!rm -r applied_bioinformatics"
   ]
  },
  {
   "cell_type": "markdown",
   "id": "258c15c6-3e68-46a1-aca4-698a67a50d24",
   "metadata": {},
   "source": [
    "## Create metadata df for exploration"
   ]
  },
  {
   "cell_type": "code",
   "execution_count": null,
   "id": "2ef9708c-3a2b-401b-b4e2-6c37166defcc",
   "metadata": {},
   "outputs": [],
   "source": []
  },
  {
   "cell_type": "code",
   "execution_count": 6,
   "id": "485fdc46-133d-43c8-9ddb-1576e3b1e64e",
   "metadata": {
    "tags": []
   },
   "outputs": [
    {
     "name": "stdout",
     "output_type": "stream",
     "text": [
      "MANIFEST saved to: data/MANIFEST\n",
      "  sample-id                                mag-id  \\\n",
      "0      M004  d3ebee05-4bf2-438c-ac89-74384041925d   \n",
      "1      M004  b9450a31-032c-471b-8f65-d8851a00fbb7   \n",
      "2      M004  4713a771-395c-43a2-8fec-2e576a211ceb   \n",
      "3      M004  e06f5ed7-6f01-4b84-b95a-a8087e8189a7   \n",
      "4      M004  91c2ce95-deaf-433a-a69b-1fa2c08d8c16   \n",
      "\n",
      "                                            filename  \n",
      "0  /home/jovyan/Interplanetary_Microbiome/data/Pa...  \n",
      "1  /home/jovyan/Interplanetary_Microbiome/data/Pa...  \n",
      "2  /home/jovyan/Interplanetary_Microbiome/data/Pa...  \n",
      "3  /home/jovyan/Interplanetary_Microbiome/data/Pa...  \n",
      "4  /home/jovyan/Interplanetary_Microbiome/data/Pa...  \n",
      "Index(['sample-id', 'mag-id', 'filename'], dtype='object')\n"
     ]
    }
   ],
   "source": [
    "from uuid import uuid4\n",
    "# load metadata\n",
    "metadata_df = pd.read_csv(f\"{data_dir}/merged_metadata_filtered.tsv\", sep=\"\\t\", index_col=0)\n",
    "\n",
    "# rename all fasta files with UUIDs\n",
    "for technique in os.listdir(data_dir):\n",
    "    tech_path = os.path.join(data_dir, technique)\n",
    "    if not os.path.isdir(tech_path):\n",
    "        continue\n",
    "    for sample_id in os.listdir(tech_path):\n",
    "        sample_path = os.path.join(tech_path, sample_id)\n",
    "        if not os.path.isdir(sample_path):\n",
    "            continue\n",
    "        for file in os.listdir(sample_path):\n",
    "            if file.endswith((\".fa\", \".fasta\")):\n",
    "                old_path = os.path.join(sample_path, file)\n",
    "                new_path = os.path.join(sample_path, f\"{uuid4()}.fa\")\n",
    "                os.rename(old_path, new_path)\n",
    "\n",
    "records = []\n",
    "\n",
    "for technique in os.listdir(data_dir):\n",
    "    tech_path = os.path.join(data_dir, technique)\n",
    "    if not os.path.isdir(tech_path):\n",
    "        continue\n",
    "    for sample_id in os.listdir(tech_path):\n",
    "        sample_path = os.path.join(tech_path, sample_id)\n",
    "        if not os.path.isdir(sample_path):\n",
    "            continue\n",
    "        for f in os.listdir(sample_path):\n",
    "            if f.endswith((\".fa\", \".fasta\")):\n",
    "                abs_path = os.path.abspath(os.path.join(sample_path, f))\n",
    "                if sample_id in metadata_df.index:\n",
    "                    mag_id = os.path.splitext(f)[0]  # filename without extension\n",
    "                    records.append((sample_id, mag_id, abs_path))\n",
    "\n",
    "# build dataframe\n",
    "manifest_df = pd.DataFrame.from_records(records, columns=[\"sample-id\", \"mag-id\", \"filename\"])\n",
    "\n",
    "# save as MANIFEST (tab-separated, no index)\n",
    "manifest_path = os.path.join(data_dir, \"MANIFEST\")\n",
    "manifest_df.to_csv(manifest_path, sep=\",\", index=False)\n",
    "\n",
    "print(f\"MANIFEST saved to: {manifest_path}\")\n",
    "print(manifest_df.head())\n",
    "print(manifest_df.columns)"
   ]
  },
  {
   "cell_type": "markdown",
   "id": "2754ac20-b8b7-4a86-a319-d56d50d89a65",
   "metadata": {
    "tags": []
   },
   "source": [
    "## EXPLORATION"
   ]
  },
  {
   "cell_type": "code",
   "execution_count": 8,
   "id": "88373a1b-c3d6-4bc6-8df8-af0db34f47ae",
   "metadata": {
    "tags": []
   },
   "outputs": [
    {
     "data": {
      "text/plain": [
       "Index(['samp_country', 'category', 'fermented_food_type'], dtype='object')"
      ]
     },
     "execution_count": 8,
     "metadata": {},
     "output_type": "execute_result"
    }
   ],
   "source": [
    "metadata_df.columns"
   ]
  },
  {
   "cell_type": "code",
   "execution_count": 9,
   "id": "482125ae-f592-4d04-b610-df425bb14755",
   "metadata": {
    "tags": []
   },
   "outputs": [
    {
     "data": {
      "text/plain": [
       "Index(['sample-id', 'mag-id', 'filename'], dtype='object')"
      ]
     },
     "execution_count": 9,
     "metadata": {},
     "output_type": "execute_result"
    }
   ],
   "source": [
    "manifest_df.columns"
   ]
  },
  {
   "cell_type": "code",
   "execution_count": 10,
   "id": "a6c9e3ef-013c-4648-ba3b-41e3a08b2a7b",
   "metadata": {
    "tags": []
   },
   "outputs": [],
   "source": [
    "merged_df = metadata_df.merge(manifest_df, left_index=True, right_on='sample-id', how='right')"
   ]
  },
  {
   "cell_type": "code",
   "execution_count": 11,
   "id": "caa13c3c-b8be-43d2-be8d-1c7aaba95315",
   "metadata": {
    "tags": []
   },
   "outputs": [
    {
     "data": {
      "text/html": [
       "<div>\n",
       "<style scoped>\n",
       "    .dataframe tbody tr th:only-of-type {\n",
       "        vertical-align: middle;\n",
       "    }\n",
       "\n",
       "    .dataframe tbody tr th {\n",
       "        vertical-align: top;\n",
       "    }\n",
       "\n",
       "    .dataframe thead th {\n",
       "        text-align: right;\n",
       "    }\n",
       "</style>\n",
       "<table border=\"1\" class=\"dataframe\">\n",
       "  <thead>\n",
       "    <tr style=\"text-align: right;\">\n",
       "      <th></th>\n",
       "      <th>samp_country</th>\n",
       "      <th>category</th>\n",
       "      <th>fermented_food_type</th>\n",
       "      <th>sample-id</th>\n",
       "      <th>mag-id</th>\n",
       "      <th>filename</th>\n",
       "    </tr>\n",
       "  </thead>\n",
       "  <tbody>\n",
       "    <tr>\n",
       "      <th>0</th>\n",
       "      <td>Thailand</td>\n",
       "      <td>fermented fish</td>\n",
       "      <td>Shrimp_paste_(Ka-pi)_from_yellow_shrimp</td>\n",
       "      <td>M004</td>\n",
       "      <td>d3ebee05-4bf2-438c-ac89-74384041925d</td>\n",
       "      <td>/home/jovyan/Interplanetary_Microbiome/data/Pa...</td>\n",
       "    </tr>\n",
       "    <tr>\n",
       "      <th>1</th>\n",
       "      <td>Thailand</td>\n",
       "      <td>fermented fish</td>\n",
       "      <td>Shrimp_paste_(Ka-pi)_from_yellow_shrimp</td>\n",
       "      <td>M004</td>\n",
       "      <td>b9450a31-032c-471b-8f65-d8851a00fbb7</td>\n",
       "      <td>/home/jovyan/Interplanetary_Microbiome/data/Pa...</td>\n",
       "    </tr>\n",
       "    <tr>\n",
       "      <th>2</th>\n",
       "      <td>Thailand</td>\n",
       "      <td>fermented fish</td>\n",
       "      <td>Shrimp_paste_(Ka-pi)_from_yellow_shrimp</td>\n",
       "      <td>M004</td>\n",
       "      <td>4713a771-395c-43a2-8fec-2e576a211ceb</td>\n",
       "      <td>/home/jovyan/Interplanetary_Microbiome/data/Pa...</td>\n",
       "    </tr>\n",
       "    <tr>\n",
       "      <th>3</th>\n",
       "      <td>Thailand</td>\n",
       "      <td>fermented fish</td>\n",
       "      <td>Shrimp_paste_(Ka-pi)_from_yellow_shrimp</td>\n",
       "      <td>M004</td>\n",
       "      <td>e06f5ed7-6f01-4b84-b95a-a8087e8189a7</td>\n",
       "      <td>/home/jovyan/Interplanetary_Microbiome/data/Pa...</td>\n",
       "    </tr>\n",
       "    <tr>\n",
       "      <th>4</th>\n",
       "      <td>Thailand</td>\n",
       "      <td>fermented fish</td>\n",
       "      <td>Shrimp_paste_(Ka-pi)_from_yellow_shrimp</td>\n",
       "      <td>M004</td>\n",
       "      <td>91c2ce95-deaf-433a-a69b-1fa2c08d8c16</td>\n",
       "      <td>/home/jovyan/Interplanetary_Microbiome/data/Pa...</td>\n",
       "    </tr>\n",
       "    <tr>\n",
       "      <th>...</th>\n",
       "      <td>...</td>\n",
       "      <td>...</td>\n",
       "      <td>...</td>\n",
       "      <td>...</td>\n",
       "      <td>...</td>\n",
       "      <td>...</td>\n",
       "    </tr>\n",
       "    <tr>\n",
       "      <th>1421</th>\n",
       "      <td>Thailand</td>\n",
       "      <td>fermented legumes</td>\n",
       "      <td>Fermented_soybean_curd_(Tao-huu-yee)</td>\n",
       "      <td>P003</td>\n",
       "      <td>d4e2ed8b-3142-4a6e-816c-22186da93ebf</td>\n",
       "      <td>/home/jovyan/Interplanetary_Microbiome/data/Il...</td>\n",
       "    </tr>\n",
       "    <tr>\n",
       "      <th>1422</th>\n",
       "      <td>Thailand</td>\n",
       "      <td>fermented legumes</td>\n",
       "      <td>Fermented_soybean_curd_(Tao-huu-yee)</td>\n",
       "      <td>P003</td>\n",
       "      <td>7e81080e-2789-4544-933f-d702f0336e3b</td>\n",
       "      <td>/home/jovyan/Interplanetary_Microbiome/data/Il...</td>\n",
       "    </tr>\n",
       "    <tr>\n",
       "      <th>1423</th>\n",
       "      <td>Thailand</td>\n",
       "      <td>fermented legumes</td>\n",
       "      <td>Fermented_soybean_curd_(Tao-huu-yee)</td>\n",
       "      <td>P003</td>\n",
       "      <td>e032d84f-6ad3-47d2-a166-83bcf04b15eb</td>\n",
       "      <td>/home/jovyan/Interplanetary_Microbiome/data/Il...</td>\n",
       "    </tr>\n",
       "    <tr>\n",
       "      <th>1424</th>\n",
       "      <td>Thailand</td>\n",
       "      <td>fermented legumes</td>\n",
       "      <td>Fermented_soybean_curd_(Tao-huu-yee)</td>\n",
       "      <td>P003</td>\n",
       "      <td>c8afd79f-1bf1-40e9-9331-3fbd8ccd830d</td>\n",
       "      <td>/home/jovyan/Interplanetary_Microbiome/data/Il...</td>\n",
       "    </tr>\n",
       "    <tr>\n",
       "      <th>1425</th>\n",
       "      <td>Thailand</td>\n",
       "      <td>fermented legumes</td>\n",
       "      <td>Fermented_soybean_curd_(Tao-huu-yee)</td>\n",
       "      <td>P003</td>\n",
       "      <td>b1726245-27c5-4317-a413-4084b9c07792</td>\n",
       "      <td>/home/jovyan/Interplanetary_Microbiome/data/Il...</td>\n",
       "    </tr>\n",
       "  </tbody>\n",
       "</table>\n",
       "<p>1426 rows × 6 columns</p>\n",
       "</div>"
      ],
      "text/plain": [
       "     samp_country           category                      fermented_food_type  \\\n",
       "0        Thailand     fermented fish  Shrimp_paste_(Ka-pi)_from_yellow_shrimp   \n",
       "1        Thailand     fermented fish  Shrimp_paste_(Ka-pi)_from_yellow_shrimp   \n",
       "2        Thailand     fermented fish  Shrimp_paste_(Ka-pi)_from_yellow_shrimp   \n",
       "3        Thailand     fermented fish  Shrimp_paste_(Ka-pi)_from_yellow_shrimp   \n",
       "4        Thailand     fermented fish  Shrimp_paste_(Ka-pi)_from_yellow_shrimp   \n",
       "...           ...                ...                                      ...   \n",
       "1421     Thailand  fermented legumes     Fermented_soybean_curd_(Tao-huu-yee)   \n",
       "1422     Thailand  fermented legumes     Fermented_soybean_curd_(Tao-huu-yee)   \n",
       "1423     Thailand  fermented legumes     Fermented_soybean_curd_(Tao-huu-yee)   \n",
       "1424     Thailand  fermented legumes     Fermented_soybean_curd_(Tao-huu-yee)   \n",
       "1425     Thailand  fermented legumes     Fermented_soybean_curd_(Tao-huu-yee)   \n",
       "\n",
       "     sample-id                                mag-id  \\\n",
       "0         M004  d3ebee05-4bf2-438c-ac89-74384041925d   \n",
       "1         M004  b9450a31-032c-471b-8f65-d8851a00fbb7   \n",
       "2         M004  4713a771-395c-43a2-8fec-2e576a211ceb   \n",
       "3         M004  e06f5ed7-6f01-4b84-b95a-a8087e8189a7   \n",
       "4         M004  91c2ce95-deaf-433a-a69b-1fa2c08d8c16   \n",
       "...        ...                                   ...   \n",
       "1421      P003  d4e2ed8b-3142-4a6e-816c-22186da93ebf   \n",
       "1422      P003  7e81080e-2789-4544-933f-d702f0336e3b   \n",
       "1423      P003  e032d84f-6ad3-47d2-a166-83bcf04b15eb   \n",
       "1424      P003  c8afd79f-1bf1-40e9-9331-3fbd8ccd830d   \n",
       "1425      P003  b1726245-27c5-4317-a413-4084b9c07792   \n",
       "\n",
       "                                               filename  \n",
       "0     /home/jovyan/Interplanetary_Microbiome/data/Pa...  \n",
       "1     /home/jovyan/Interplanetary_Microbiome/data/Pa...  \n",
       "2     /home/jovyan/Interplanetary_Microbiome/data/Pa...  \n",
       "3     /home/jovyan/Interplanetary_Microbiome/data/Pa...  \n",
       "4     /home/jovyan/Interplanetary_Microbiome/data/Pa...  \n",
       "...                                                 ...  \n",
       "1421  /home/jovyan/Interplanetary_Microbiome/data/Il...  \n",
       "1422  /home/jovyan/Interplanetary_Microbiome/data/Il...  \n",
       "1423  /home/jovyan/Interplanetary_Microbiome/data/Il...  \n",
       "1424  /home/jovyan/Interplanetary_Microbiome/data/Il...  \n",
       "1425  /home/jovyan/Interplanetary_Microbiome/data/Il...  \n",
       "\n",
       "[1426 rows x 6 columns]"
      ]
     },
     "execution_count": 11,
     "metadata": {},
     "output_type": "execute_result"
    }
   ],
   "source": [
    "merged_df"
   ]
  }
 ],
 "metadata": {
  "kernelspec": {
   "display_name": "QIIME 2",
   "language": "python",
   "name": "python3"
  },
  "language_info": {
   "codemirror_mode": {
    "name": "ipython",
    "version": 3
   },
   "file_extension": ".py",
   "mimetype": "text/x-python",
   "name": "python",
   "nbconvert_exporter": "python",
   "pygments_lexer": "ipython3",
   "version": "3.10.14"
  }
 },
 "nbformat": 4,
 "nbformat_minor": 5
}
