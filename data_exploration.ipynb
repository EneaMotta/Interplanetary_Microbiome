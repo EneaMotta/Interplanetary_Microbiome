{
 "cells": [
  {
   "cell_type": "code",
   "execution_count": 15,
   "id": "b63ddd0e-7ef2-4c46-acab-3dbe8f193dc0",
   "metadata": {
    "tags": []
   },
   "outputs": [],
   "source": [
    "import pandas as pd\n",
    "import qiime2 as q2\n",
    "import seaborn as sns\n",
    "\n",
    "import matplotlib.pyplot as plt\n",
    "%matplotlib inline\n",
    "data_dir = 'data'\n",
    "source = 'data/raw'\n",
    "! mkdir -p data data/raw\n"
   ]
  },
  {
   "cell_type": "code",
   "execution_count": 23,
   "id": "8d7be0e5-d428-44a9-9482-7cda6cfacdd4",
   "metadata": {
    "tags": []
   },
   "outputs": [],
   "source": [
    "\n"
   ]
  },
  {
   "cell_type": "markdown",
   "id": "68087b1a-e24d-46e9-92c7-45ef30616b05",
   "metadata": {},
   "source": [
    "Upload the files from Rodrigo to the raw directory"
   ]
  },
  {
   "cell_type": "markdown",
   "id": "a81fdc42-4a04-429d-951d-46dff2233d99",
   "metadata": {
    "tags": []
   },
   "source": [
    "## Extract compressed files from .tar.gz archives"
   ]
  },
  {
   "cell_type": "raw",
   "id": "1938c60b-a77a-4179-a9a0-f9556d4d724b",
   "metadata": {
    "tags": []
   },
   "source": [
    "import tarfile\n",
    "import os\n",
    "\n",
    "####Run only once\n",
    "\n",
    "for filename in os.listdir(source):\n",
    "    if filename.endswith(\".tar.gz\"):\n",
    "        filepath = os.path.join(source, filename)\n",
    "        foldername = filename[:-7]  # remove .tar.gz\n",
    "        outdir = os.path.join(source, foldername)\n",
    "        os.makedirs(outdir, exist_ok=True)\n",
    "        with tarfile.open(filepath, \"r:gz\") as tar:\n",
    "            tar.extractall(path=outdir)\n"
   ]
  },
  {
   "cell_type": "code",
   "execution_count": 60,
   "id": "45ae9623-9f05-4077-bb49-826e62ef69a3",
   "metadata": {
    "tags": []
   },
   "outputs": [
    {
     "name": "stdout",
     "output_type": "stream",
     "text": [
      "                                                  absolute-filepath\n",
      "sample-id                                                          \n",
      "M004_metabat2.11  /home/jovyan/Interplanetary_Microbiome/data/ra...\n",
      "M004_metabat2.13  /home/jovyan/Interplanetary_Microbiome/data/ra...\n",
      "M004_metabat2.28  /home/jovyan/Interplanetary_Microbiome/data/ra...\n",
      "M004_metabat2.10  /home/jovyan/Interplanetary_Microbiome/data/ra...\n",
      "M004_metabat2.4   /home/jovyan/Interplanetary_Microbiome/data/ra...\n"
     ]
    }
   ],
   "source": [
    "import os\n",
    "import pandas as pd\n",
    "\n",
    "data_dir = \"data\"\n",
    "source = \"data/raw\"\n",
    "\n",
    "# load metadata\n",
    "metadata_df = pd.read_csv(f\"{source}/merged_metadata_filtered.tsv\", sep=\"\\t\", index_col=0)\n",
    "\n",
    "records = []\n",
    "\n",
    "for technique in os.listdir(source):\n",
    "    tech_path = os.path.join(source, technique)\n",
    "    if not os.path.isdir(tech_path):\n",
    "        continue\n",
    "    for sample_id in os.listdir(tech_path):\n",
    "        sample_path = os.path.join(tech_path, sample_id)\n",
    "        if not os.path.isdir(sample_path):\n",
    "            continue\n",
    "        for f in os.listdir(sample_path):\n",
    "            if f.endswith((\".fa\", \".fasta\")):\n",
    "                abs_path = os.path.abspath(os.path.join(sample_path, f))\n",
    "                if sample_id in metadata_df.index:\n",
    "                    base = os.path.splitext(f)[0]  # remove .fa or .fasta\n",
    "                    new_id = f\"{sample_id}_{base}\"\n",
    "                    records.append((new_id, abs_path))\n",
    "\n",
    "# build dataframe\n",
    "manifest_df = pd.DataFrame.from_records(records, columns=[\"sample-id\", \"absolute-filepath\"])\n",
    "manifest_df.set_index(\"sample-id\", inplace=True)\n",
    "\n",
    "print(manifest_df.head())\n",
    "\n",
    "# export MANIFEST\n",
    "manifest_df.to_csv(f\"{data_dir}/MANIFEST\", sep=\"\\t\")\n"
   ]
  },
  {
   "cell_type": "code",
   "execution_count": 42,
   "id": "d827960d-e226-4025-b21f-7f1d68d07fed",
   "metadata": {
    "tags": []
   },
   "outputs": [],
   "source": [
    "######create Merged_df for exploration######\n",
    "metadata_df['sample_id'] = metadata_df.index\n",
    "merged_df=pd.merge(metadata_df, manifest_df, how = 'right', left_on = 'sample_ID', right_on = 'sample-id')\n",
    "merged_df.to_csv(f\"{data_dir}/metadata_merged.csv\", index=False)"
   ]
  },
  {
   "cell_type": "markdown",
   "id": "2754ac20-b8b7-4a86-a319-d56d50d89a65",
   "metadata": {},
   "source": [
    "## EXPLORATION"
   ]
  },
  {
   "cell_type": "code",
   "execution_count": 49,
   "id": "7e12d66c-b377-4409-bc97-180bba09b7dd",
   "metadata": {
    "tags": []
   },
   "outputs": [
    {
     "data": {
      "text/plain": [
       "Index(['samp_country', 'category', 'fermented_food_type', 'sample_id',\n",
       "       'absolute-filepath'],\n",
       "      dtype='object')"
      ]
     },
     "execution_count": 49,
     "metadata": {},
     "output_type": "execute_result"
    }
   ],
   "source": [
    "merged_df.columns"
   ]
  },
  {
   "cell_type": "code",
   "execution_count": 51,
   "id": "9e31e3a6-2209-4005-b2c0-e5fa7645124f",
   "metadata": {
    "tags": []
   },
   "outputs": [
    {
     "data": {
      "text/plain": [
       "samp_country\n",
       "Thailand       621\n",
       "Laos           568\n",
       "Benin          200\n",
       "Slovenia        19\n",
       "Germany         10\n",
       "Switzerland      8\n",
       "Name: count, dtype: int64"
      ]
     },
     "execution_count": 51,
     "metadata": {},
     "output_type": "execute_result"
    }
   ],
   "source": [
    "merged_df['samp_country'].value_counts()"
   ]
  },
  {
   "cell_type": "code",
   "execution_count": 54,
   "id": "7e96ef3a-e13f-4dfe-bad9-73084f7fe527",
   "metadata": {
    "tags": []
   },
   "outputs": [
    {
     "data": {
      "text/plain": [
       "category\n",
       "fermented fish          772\n",
       "fermented meat          363\n",
       "fermented legumes       127\n",
       "fermented roots         120\n",
       "fermented vegetables     33\n",
       "fermented cereal         11\n",
       "Name: count, dtype: int64"
      ]
     },
     "execution_count": 54,
     "metadata": {},
     "output_type": "execute_result"
    }
   ],
   "source": [
    "merged_df['category'].value_counts()"
   ]
  },
  {
   "cell_type": "code",
   "execution_count": null,
   "id": "a38178b6-9877-4bc0-b497-93289b17c223",
   "metadata": {
    "tags": []
   },
   "outputs": [
    {
     "name": "stdout",
     "output_type": "stream",
     "text": [
      "/opt/conda/lib/python3.10/site-packages/unifrac/__init__.py:9: UserWarning: pkg_resources is deprecated as an API. See https://setuptools.pypa.io/en/latest/pkg_resources.html. The pkg_resources package is slated for removal as early as 2025-11-30. Refrain from using this package or pin to Setuptools<81.\n",
      "  import pkg_resources\n"
     ]
    }
   ],
   "source": [
    "! qiime tools import \\\n",
    "    --type \"SampleData[SequencesWithQuality]\" \\\n",
    "    --input-format SingleEndFastqManifestPhred33V2 \\\n",
    "    --input-path $data_dir/MANIFEST \\\n",
    "    --output-path $data_dir/demux_seqs.qza"
   ]
  }
 ],
 "metadata": {
  "kernelspec": {
   "display_name": "QIIME 2",
   "language": "python",
   "name": "python3"
  },
  "language_info": {
   "codemirror_mode": {
    "name": "ipython",
    "version": 3
   },
   "file_extension": ".py",
   "mimetype": "text/x-python",
   "name": "python",
   "nbconvert_exporter": "python",
   "pygments_lexer": "ipython3",
   "version": "3.10.14"
  }
 },
 "nbformat": 4,
 "nbformat_minor": 5
}
