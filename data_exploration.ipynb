{
 "cells": [
  {
   "cell_type": "markdown",
   "id": "0ea19c36-16f1-4af2-ada4-6e375d17f4c3",
   "metadata": {},
   "source": [
    "## Set up environment and fetch Files"
   ]
  },
  {
   "cell_type": "code",
   "execution_count": 2,
   "id": "b63ddd0e-7ef2-4c46-acab-3dbe8f193dc0",
   "metadata": {
    "tags": []
   },
   "outputs": [],
   "source": [
    "#set up environment\n",
    "import pandas as pd\n",
    "import qiime2 as q2\n",
    "import seaborn as sns\n",
    "import matplotlib.pyplot as plt\n",
    "import os\n",
    "\n",
    "%matplotlib inline\n",
    "# ! rm -r data ###unappend this line if you want to wipe clean the data folder\n",
    "data_dir = 'data'\n",
    "safe = 'permanent_dir'\n",
    "! mkdir -p data\n",
    "! mkdir -p permanent"
   ]
  },
  {
   "cell_type": "code",
   "execution_count": 26,
   "id": "38613f56-c0c2-46df-8665-1104244bfb63",
   "metadata": {
    "collapsed": true,
    "jupyter": {
     "outputs_hidden": true
    },
    "tags": []
   },
   "outputs": [
    {
     "name": "stdout",
     "output_type": "stream",
     "text": [
      "WARNING: combining -O with -r or -p will mean that all downloaded content\n",
      "will be placed in the single file you specified.\n",
      "\n",
      "--2025-10-12 11:27:10--  https://polybox.ethz.ch/index.php/s/56JaAiKdGwioBKN/download\n",
      "Resolving polybox.ethz.ch (polybox.ethz.ch)... 129.132.71.243\n",
      "Connecting to polybox.ethz.ch (polybox.ethz.ch)|129.132.71.243|:443... connected.\n",
      "HTTP request sent, awaiting response... 200 OK\n",
      "Length: unspecified [application/zip]\n",
      "Saving to: ‘polybox_files.tar.gz’\n",
      "\n",
      "polybox_files.tar.g     [       <=>          ] 492.28M   404MB/s    in 1.2s    \n",
      "\n",
      "2025-10-12 11:27:11 (404 MB/s) - ‘polybox_files.tar.gz’ saved [516188455]\n",
      "\n",
      "FINISHED --2025-10-12 11:27:12--\n",
      "Total wall clock time: 2.2s\n",
      "Downloaded: 1 files, 492M in 1.2s (404 MB/s)\n",
      "gzip: stdin has more than one entry--rest ignored\n",
      "tar: Child returned status 2\n",
      "tar: Error is not recoverable: exiting now\n",
      "Archive:  polybox_files.zip\n",
      "   creating: applied_bioinformatics/\n",
      " extracting: applied_bioinformatics/.DS_Store  \n",
      " extracting: applied_bioinformatics/Illumina_MAGs.tar.gz  \n",
      " extracting: applied_bioinformatics/PacBio_MAGs.tar.gz  \n",
      " extracting: applied_bioinformatics/merged_metadata_filtered.tsv  \n"
     ]
    }
   ],
   "source": [
    "# fetch files from polybox\n",
    "! wget -r -np -nH --cut-dirs=3 -R \"index.html*\" \"https://polybox.ethz.ch/index.php/s/56JaAiKdGwioBKN/download\" -O polybox_files.tar.gz\n",
    "! tar -xzf polybox_files.tar.gz\n",
    "\n",
    "#unzip polybox files\n",
    "!mv polybox_files.tar.gz polybox_files.zip\n",
    "!unzip polybox_files.zip\n",
    "!rm polybox_files.zip\n",
    "\n",
    "#untar MAGs files and store everything in data_dir\n",
    "!tar -xzf applied_bioinformatics/Illumina_MAGs.tar.gz -C ./data\n",
    "!tar -xzf applied_bioinformatics/PacBio_MAGs.tar.gz -C ./data\n",
    "!mv applied_bioinformatics/merged_metadata_filtered.tsv ./data\n",
    "!rm -r applied_bioinformatics"
   ]
  },
  {
   "cell_type": "markdown",
   "id": "258c15c6-3e68-46a1-aca4-698a67a50d24",
   "metadata": {},
   "source": [
    "## Create metadata df for exploration"
   ]
  },
  {
   "cell_type": "code",
   "execution_count": null,
   "id": "2ef9708c-3a2b-401b-b4e2-6c37166defcc",
   "metadata": {},
   "outputs": [],
   "source": []
  },
  {
   "cell_type": "code",
   "execution_count": 3,
   "id": "485fdc46-133d-43c8-9ddb-1576e3b1e64e",
   "metadata": {
    "tags": []
   },
   "outputs": [
    {
     "name": "stdout",
     "output_type": "stream",
     "text": [
      "MANIFEST saved to: data/MANIFEST\n",
      "  sample-id                                mag-id  \\\n",
      "0      M004  e5e2e0bf-6f73-4261-9470-eea81396e53c   \n",
      "1      M004  1bcb3a74-3432-4c82-b70c-d817640c31b2   \n",
      "2      M004  42f6086f-58ab-4c2b-b47a-ed95b824638a   \n",
      "3      M004  8b161c5a-bfae-4894-8d81-014ee3e96557   \n",
      "4      M004  ad963cb1-f546-4cb9-8f61-d66070816ba6   \n",
      "\n",
      "                                            filename  \n",
      "0  /home/jovyan/Interplanetary_Microbiome/data/Pa...  \n",
      "1  /home/jovyan/Interplanetary_Microbiome/data/Pa...  \n",
      "2  /home/jovyan/Interplanetary_Microbiome/data/Pa...  \n",
      "3  /home/jovyan/Interplanetary_Microbiome/data/Pa...  \n",
      "4  /home/jovyan/Interplanetary_Microbiome/data/Pa...  \n",
      "Index(['sample-id', 'mag-id', 'filename'], dtype='object')\n"
     ]
    }
   ],
   "source": [
    "from uuid import uuid4\n",
    "# load metadata\n",
    "metadata_df = pd.read_csv(f\"{data_dir}/merged_metadata_filtered.tsv\", sep=\"\\t\", index_col=0)\n",
    "\n",
    "# rename all fasta files with UUIDs\n",
    "for technique in os.listdir(data_dir):\n",
    "    tech_path = os.path.join(data_dir, technique)\n",
    "    if not os.path.isdir(tech_path):\n",
    "        continue\n",
    "    for sample_id in os.listdir(tech_path):\n",
    "        sample_path = os.path.join(tech_path, sample_id)\n",
    "        if not os.path.isdir(sample_path):\n",
    "            continue\n",
    "        for file in os.listdir(sample_path):\n",
    "            if file.endswith((\".fa\", \".fasta\")):\n",
    "                old_path = os.path.join(sample_path, file)\n",
    "                new_path = os.path.join(sample_path, f\"{uuid4()}.fa\")\n",
    "                os.rename(old_path, new_path)\n",
    "\n",
    "records = []\n",
    "\n",
    "for technique in os.listdir(data_dir):\n",
    "    tech_path = os.path.join(data_dir, technique)\n",
    "    if not os.path.isdir(tech_path):\n",
    "        continue\n",
    "    for sample_id in os.listdir(tech_path):\n",
    "        sample_path = os.path.join(tech_path, sample_id)\n",
    "        if not os.path.isdir(sample_path):\n",
    "            continue\n",
    "        for f in os.listdir(sample_path):\n",
    "            if f.endswith((\".fa\", \".fasta\")):\n",
    "                abs_path = os.path.abspath(os.path.join(sample_path, f))\n",
    "                if sample_id in metadata_df.index:\n",
    "                    mag_id = os.path.splitext(f)[0]  # filename without extension\n",
    "                    records.append((sample_id, mag_id, abs_path))\n",
    "\n",
    "# build dataframe\n",
    "manifest_df = pd.DataFrame.from_records(records, columns=[\"sample-id\", \"mag-id\", \"filename\"])\n",
    "\n",
    "# save as MANIFEST (tab-separated, no index)\n",
    "manifest_path = os.path.join(data_dir, \"MANIFEST\")\n",
    "manifest_df.to_csv(manifest_path, sep=\",\", index=False)\n",
    "\n",
    "print(f\"MANIFEST saved to: {manifest_path}\")\n",
    "print(manifest_df.head())\n",
    "print(manifest_df.columns)"
   ]
  },
  {
   "cell_type": "markdown",
   "id": "2754ac20-b8b7-4a86-a319-d56d50d89a65",
   "metadata": {},
   "source": [
    "## EXPLORATION"
   ]
  }
 ],
 "metadata": {
  "kernelspec": {
   "display_name": "QIIME 2",
   "language": "python",
   "name": "python3"
  },
  "language_info": {
   "codemirror_mode": {
    "name": "ipython",
    "version": 3
   },
   "file_extension": ".py",
   "mimetype": "text/x-python",
   "name": "python",
   "nbconvert_exporter": "python",
   "pygments_lexer": "ipython3",
   "version": "3.10.14"
  }
 },
 "nbformat": 4,
 "nbformat_minor": 5
}
